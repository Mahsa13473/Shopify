{
 "cells": [
  {
   "cell_type": "markdown",
   "id": "50f26f4d",
   "metadata": {},
   "source": [
    "# Fall 2022 Data Science Intern Challenge\n"
   ]
  },
  {
   "cell_type": "markdown",
   "id": "3ca3c04b",
   "metadata": {},
   "source": [
    "## Question 1"
   ]
  },
  {
   "cell_type": "markdown",
   "id": "3b9f7f31",
   "metadata": {},
   "source": [
    "Given some sample data, write a program to answer the following: [click here to access the required data set](https://docs.google.com/spreadsheets/d/16i38oonuX1y1g7C_UAmiK9GkY7cS-64DfiDMNiR41LM/edit#gid=0)"
   ]
  },
  {
   "cell_type": "markdown",
   "id": "e552a642",
   "metadata": {},
   "source": [
    "On Shopify, we have exactly 100 sneaker shops, and each of these shops sells only one model of shoe. We want to do some analysis of the average order value (AOV). When we look at orders data over a 30 day window, we naively calculate an AOV of $3145.13. Given that we know these shops are selling sneakers, a relatively affordable item, something seems wrong with our analysis. "
   ]
  },
  {
   "cell_type": "markdown",
   "id": "999185ce",
   "metadata": {},
   "source": [
    "### Preliminary Work"
   ]
  },
  {
   "cell_type": "code",
   "execution_count": 1,
   "id": "ad3a707b",
   "metadata": {},
   "outputs": [],
   "source": [
    "# import the necessary packages\n",
    "import pandas as pd\n",
    "import numpy as np\n",
    "import matplotlib.pyplot as plt"
   ]
  },
  {
   "cell_type": "markdown",
   "id": "8a73a042",
   "metadata": {},
   "source": [
    "Let's check the data first"
   ]
  },
  {
   "cell_type": "code",
   "execution_count": 2,
   "id": "5486f9d7",
   "metadata": {},
   "outputs": [
    {
     "data": {
      "text/html": [
       "<div>\n",
       "<style scoped>\n",
       "    .dataframe tbody tr th:only-of-type {\n",
       "        vertical-align: middle;\n",
       "    }\n",
       "\n",
       "    .dataframe tbody tr th {\n",
       "        vertical-align: top;\n",
       "    }\n",
       "\n",
       "    .dataframe thead th {\n",
       "        text-align: right;\n",
       "    }\n",
       "</style>\n",
       "<table border=\"1\" class=\"dataframe\">\n",
       "  <thead>\n",
       "    <tr style=\"text-align: right;\">\n",
       "      <th></th>\n",
       "      <th>order_id</th>\n",
       "      <th>shop_id</th>\n",
       "      <th>user_id</th>\n",
       "      <th>order_amount</th>\n",
       "      <th>total_items</th>\n",
       "      <th>payment_method</th>\n",
       "      <th>created_at</th>\n",
       "    </tr>\n",
       "  </thead>\n",
       "  <tbody>\n",
       "    <tr>\n",
       "      <th>0</th>\n",
       "      <td>1</td>\n",
       "      <td>53</td>\n",
       "      <td>746</td>\n",
       "      <td>224</td>\n",
       "      <td>2</td>\n",
       "      <td>cash</td>\n",
       "      <td>2017-03-13 12:36:56</td>\n",
       "    </tr>\n",
       "    <tr>\n",
       "      <th>1</th>\n",
       "      <td>2</td>\n",
       "      <td>92</td>\n",
       "      <td>925</td>\n",
       "      <td>90</td>\n",
       "      <td>1</td>\n",
       "      <td>cash</td>\n",
       "      <td>2017-03-03 17:38:52</td>\n",
       "    </tr>\n",
       "    <tr>\n",
       "      <th>2</th>\n",
       "      <td>3</td>\n",
       "      <td>44</td>\n",
       "      <td>861</td>\n",
       "      <td>144</td>\n",
       "      <td>1</td>\n",
       "      <td>cash</td>\n",
       "      <td>2017-03-14 4:23:56</td>\n",
       "    </tr>\n",
       "    <tr>\n",
       "      <th>3</th>\n",
       "      <td>4</td>\n",
       "      <td>18</td>\n",
       "      <td>935</td>\n",
       "      <td>156</td>\n",
       "      <td>1</td>\n",
       "      <td>credit_card</td>\n",
       "      <td>2017-03-26 12:43:37</td>\n",
       "    </tr>\n",
       "    <tr>\n",
       "      <th>4</th>\n",
       "      <td>5</td>\n",
       "      <td>18</td>\n",
       "      <td>883</td>\n",
       "      <td>156</td>\n",
       "      <td>1</td>\n",
       "      <td>credit_card</td>\n",
       "      <td>2017-03-01 4:35:11</td>\n",
       "    </tr>\n",
       "  </tbody>\n",
       "</table>\n",
       "</div>"
      ],
      "text/plain": [
       "   order_id  shop_id  user_id  order_amount  total_items payment_method  \\\n",
       "0         1       53      746           224            2           cash   \n",
       "1         2       92      925            90            1           cash   \n",
       "2         3       44      861           144            1           cash   \n",
       "3         4       18      935           156            1    credit_card   \n",
       "4         5       18      883           156            1    credit_card   \n",
       "\n",
       "            created_at  \n",
       "0  2017-03-13 12:36:56  \n",
       "1  2017-03-03 17:38:52  \n",
       "2   2017-03-14 4:23:56  \n",
       "3  2017-03-26 12:43:37  \n",
       "4   2017-03-01 4:35:11  "
      ]
     },
     "execution_count": 2,
     "metadata": {},
     "output_type": "execute_result"
    }
   ],
   "source": [
    "# load the data\n",
    "data = pd.read_csv(\"2019 Winter Data Science Intern Challenge Data Set.csv\")\n",
    "data.head()"
   ]
  },
  {
   "cell_type": "code",
   "execution_count": 3,
   "id": "b7d4b64c",
   "metadata": {},
   "outputs": [
    {
     "name": "stdout",
     "output_type": "stream",
     "text": [
      "order_id          0\n",
      "shop_id           0\n",
      "user_id           0\n",
      "order_amount      0\n",
      "total_items       0\n",
      "payment_method    0\n",
      "created_at        0\n",
      "dtype: int64\n",
      "0\n"
     ]
    }
   ],
   "source": [
    "# Check missing values\n",
    "print(data.isnull().sum())\n",
    "\n",
    "# check any duplicate rows\n",
    "print(data.duplicated().sum())"
   ]
  },
  {
   "cell_type": "markdown",
   "id": "f88cd1d0",
   "metadata": {},
   "source": [
    "No missing value and duplicate rows are found!"
   ]
  },
  {
   "cell_type": "code",
   "execution_count": 4,
   "id": "14e53bf6",
   "metadata": {},
   "outputs": [
    {
     "data": {
      "text/plain": [
       "0"
      ]
     },
     "execution_count": 4,
     "metadata": {},
     "output_type": "execute_result"
    }
   ],
   "source": [
    "# check any duplicate rows\n",
    "data.duplicated().sum()"
   ]
  },
  {
   "cell_type": "markdown",
   "id": "32a812e6",
   "metadata": {},
   "source": [
    "### a. Think about what could be going wrong with our calculation. Think about a better way to evaluate this data."
   ]
  },
  {
   "cell_type": "markdown",
   "id": "648ff52e",
   "metadata": {},
   "source": [
    "**Short Answer**: The way that AOV is calculated is wrong. Also, there are some anomalies in the dataset which we need to remove first (store 42 and 78). The new AOV is about 152 which makes sense."
   ]
  },
  {
   "cell_type": "markdown",
   "id": "b6375d26",
   "metadata": {},
   "source": [
    "According to the [Shopify blog](https://www.shopify.ca/blog/average-order-value) AOV is the average order value and can be calculated simply by dividing total revenue by the number of orders. The naively calculated AOV ($3145.13) is the average of all the \"order_amount\" data without considering the \"total_item\" which is not correct."
   ]
  },
  {
   "cell_type": "code",
   "execution_count": 5,
   "id": "2f600ba7",
   "metadata": {},
   "outputs": [
    {
     "name": "stdout",
     "output_type": "stream",
     "text": [
      "naively calculate AOV =  3145.128\n"
     ]
    }
   ],
   "source": [
    "print(\"naively calculate AOV = \", data['order_amount'].mean())"
   ]
  },
  {
   "cell_type": "markdown",
   "id": "7af29846",
   "metadata": {},
   "source": [
    "To correct this, we can consider two methods. First, calculate the AOV per shop and then take the average. Second, calculate AOV for all sneaker shops by dividing total revenue by the total number of orders in all rows."
   ]
  },
  {
   "cell_type": "code",
   "execution_count": 6,
   "id": "2c80fddf",
   "metadata": {},
   "outputs": [
    {
     "data": {
      "text/html": [
       "<div>\n",
       "<style scoped>\n",
       "    .dataframe tbody tr th:only-of-type {\n",
       "        vertical-align: middle;\n",
       "    }\n",
       "\n",
       "    .dataframe tbody tr th {\n",
       "        vertical-align: top;\n",
       "    }\n",
       "\n",
       "    .dataframe thead th {\n",
       "        text-align: right;\n",
       "    }\n",
       "</style>\n",
       "<table border=\"1\" class=\"dataframe\">\n",
       "  <thead>\n",
       "    <tr style=\"text-align: right;\">\n",
       "      <th></th>\n",
       "      <th>aov</th>\n",
       "    </tr>\n",
       "    <tr>\n",
       "      <th>shop_id</th>\n",
       "      <th></th>\n",
       "    </tr>\n",
       "  </thead>\n",
       "  <tbody>\n",
       "    <tr>\n",
       "      <th>1</th>\n",
       "      <td>158.0</td>\n",
       "    </tr>\n",
       "    <tr>\n",
       "      <th>2</th>\n",
       "      <td>94.0</td>\n",
       "    </tr>\n",
       "    <tr>\n",
       "      <th>3</th>\n",
       "      <td>148.0</td>\n",
       "    </tr>\n",
       "    <tr>\n",
       "      <th>4</th>\n",
       "      <td>128.0</td>\n",
       "    </tr>\n",
       "    <tr>\n",
       "      <th>5</th>\n",
       "      <td>142.0</td>\n",
       "    </tr>\n",
       "    <tr>\n",
       "      <th>...</th>\n",
       "      <td>...</td>\n",
       "    </tr>\n",
       "    <tr>\n",
       "      <th>96</th>\n",
       "      <td>153.0</td>\n",
       "    </tr>\n",
       "    <tr>\n",
       "      <th>97</th>\n",
       "      <td>162.0</td>\n",
       "    </tr>\n",
       "    <tr>\n",
       "      <th>98</th>\n",
       "      <td>133.0</td>\n",
       "    </tr>\n",
       "    <tr>\n",
       "      <th>99</th>\n",
       "      <td>195.0</td>\n",
       "    </tr>\n",
       "    <tr>\n",
       "      <th>100</th>\n",
       "      <td>111.0</td>\n",
       "    </tr>\n",
       "  </tbody>\n",
       "</table>\n",
       "<p>100 rows × 1 columns</p>\n",
       "</div>"
      ],
      "text/plain": [
       "           aov\n",
       "shop_id       \n",
       "1        158.0\n",
       "2         94.0\n",
       "3        148.0\n",
       "4        128.0\n",
       "5        142.0\n",
       "...        ...\n",
       "96       153.0\n",
       "97       162.0\n",
       "98       133.0\n",
       "99       195.0\n",
       "100      111.0\n",
       "\n",
       "[100 rows x 1 columns]"
      ]
     },
     "execution_count": 6,
     "metadata": {},
     "output_type": "execute_result"
    }
   ],
   "source": [
    "# first method\n",
    "total_revenue_by_shopid = data.groupby(['shop_id'])['order_amount'].agg('sum')\n",
    "total_orders_by_shopid = data.groupby(['shop_id'])['total_items'].agg('sum')\n",
    "aov_by_shopid = total_revenue_by_shopid/total_orders_by_shopid \n",
    "aov_by_shopid.name = 'aov'\n",
    "data_by_shopid = pd.concat([aov_by_shopid], axis=1)\n",
    "data_by_shopid"
   ]
  },
  {
   "cell_type": "code",
   "execution_count": 7,
   "id": "236ec396",
   "metadata": {},
   "outputs": [
    {
     "data": {
      "text/html": [
       "<div>\n",
       "<style scoped>\n",
       "    .dataframe tbody tr th:only-of-type {\n",
       "        vertical-align: middle;\n",
       "    }\n",
       "\n",
       "    .dataframe tbody tr th {\n",
       "        vertical-align: top;\n",
       "    }\n",
       "\n",
       "    .dataframe thead th {\n",
       "        text-align: right;\n",
       "    }\n",
       "</style>\n",
       "<table border=\"1\" class=\"dataframe\">\n",
       "  <thead>\n",
       "    <tr style=\"text-align: right;\">\n",
       "      <th></th>\n",
       "      <th>aov</th>\n",
       "    </tr>\n",
       "  </thead>\n",
       "  <tbody>\n",
       "    <tr>\n",
       "      <th>count</th>\n",
       "      <td>100.000000</td>\n",
       "    </tr>\n",
       "    <tr>\n",
       "      <th>mean</th>\n",
       "      <td>407.990000</td>\n",
       "    </tr>\n",
       "    <tr>\n",
       "      <th>std</th>\n",
       "      <td>2557.462906</td>\n",
       "    </tr>\n",
       "    <tr>\n",
       "      <th>min</th>\n",
       "      <td>90.000000</td>\n",
       "    </tr>\n",
       "    <tr>\n",
       "      <th>25%</th>\n",
       "      <td>132.750000</td>\n",
       "    </tr>\n",
       "    <tr>\n",
       "      <th>50%</th>\n",
       "      <td>153.000000</td>\n",
       "    </tr>\n",
       "    <tr>\n",
       "      <th>75%</th>\n",
       "      <td>168.250000</td>\n",
       "    </tr>\n",
       "    <tr>\n",
       "      <th>max</th>\n",
       "      <td>25725.000000</td>\n",
       "    </tr>\n",
       "  </tbody>\n",
       "</table>\n",
       "</div>"
      ],
      "text/plain": [
       "                aov\n",
       "count    100.000000\n",
       "mean     407.990000\n",
       "std     2557.462906\n",
       "min       90.000000\n",
       "25%      132.750000\n",
       "50%      153.000000\n",
       "75%      168.250000\n",
       "max    25725.000000"
      ]
     },
     "execution_count": 7,
     "metadata": {},
     "output_type": "execute_result"
    }
   ],
   "source": [
    "data_by_shopid.describe()"
   ]
  },
  {
   "cell_type": "code",
   "execution_count": 8,
   "id": "2dc8a97d",
   "metadata": {},
   "outputs": [
    {
     "name": "stdout",
     "output_type": "stream",
     "text": [
      "AOV for method 1: 407.99\n"
     ]
    }
   ],
   "source": [
    "# or\n",
    "print(\"AOV for method 1:\", data_by_shopid.mean()[0])"
   ]
  },
  {
   "cell_type": "code",
   "execution_count": 9,
   "id": "95baffbd",
   "metadata": {},
   "outputs": [
    {
     "name": "stdout",
     "output_type": "stream",
     "text": [
      "AOV for method 2: 357.92152221412965\n"
     ]
    }
   ],
   "source": [
    "# second method\n",
    "total_revenue = data['order_amount'].sum()\n",
    "total_orders = data['total_items'].sum()\n",
    "print(\"AOV for method 2:\", total_revenue/total_orders)"
   ]
  },
  {
   "cell_type": "markdown",
   "id": "dcb340f2",
   "metadata": {},
   "source": [
    "Although the AOV becomes 407.99 and 357.92 for two methods, it is still a high price for a relatively affordable sneaker. So we need further analysis to find the anomalies."
   ]
  },
  {
   "cell_type": "markdown",
   "id": "e5ce15c4",
   "metadata": {},
   "source": [
    "To do the analysis, I added the new column called aov_per_transaction which is \"order_amount\" divided by \"total_items\". In this way, I can find all the anomalies per row or transaction. (The other way can be finding anomalies per store instead of per transaction. However, this method could remove all data for a store if only one of the transactions is an anomaly. So finding anomalies per transaction is much more robust and can keep more beneficial data in our dataset.)"
   ]
  },
  {
   "cell_type": "code",
   "execution_count": 10,
   "id": "e5a3eb79",
   "metadata": {},
   "outputs": [
    {
     "data": {
      "text/html": [
       "<div>\n",
       "<style scoped>\n",
       "    .dataframe tbody tr th:only-of-type {\n",
       "        vertical-align: middle;\n",
       "    }\n",
       "\n",
       "    .dataframe tbody tr th {\n",
       "        vertical-align: top;\n",
       "    }\n",
       "\n",
       "    .dataframe thead th {\n",
       "        text-align: right;\n",
       "    }\n",
       "</style>\n",
       "<table border=\"1\" class=\"dataframe\">\n",
       "  <thead>\n",
       "    <tr style=\"text-align: right;\">\n",
       "      <th></th>\n",
       "      <th>order_id</th>\n",
       "      <th>shop_id</th>\n",
       "      <th>user_id</th>\n",
       "      <th>order_amount</th>\n",
       "      <th>total_items</th>\n",
       "      <th>payment_method</th>\n",
       "      <th>created_at</th>\n",
       "      <th>aov_per_transaction</th>\n",
       "    </tr>\n",
       "  </thead>\n",
       "  <tbody>\n",
       "    <tr>\n",
       "      <th>0</th>\n",
       "      <td>1</td>\n",
       "      <td>53</td>\n",
       "      <td>746</td>\n",
       "      <td>224</td>\n",
       "      <td>2</td>\n",
       "      <td>cash</td>\n",
       "      <td>2017-03-13 12:36:56</td>\n",
       "      <td>112.0</td>\n",
       "    </tr>\n",
       "    <tr>\n",
       "      <th>1</th>\n",
       "      <td>2</td>\n",
       "      <td>92</td>\n",
       "      <td>925</td>\n",
       "      <td>90</td>\n",
       "      <td>1</td>\n",
       "      <td>cash</td>\n",
       "      <td>2017-03-03 17:38:52</td>\n",
       "      <td>90.0</td>\n",
       "    </tr>\n",
       "    <tr>\n",
       "      <th>2</th>\n",
       "      <td>3</td>\n",
       "      <td>44</td>\n",
       "      <td>861</td>\n",
       "      <td>144</td>\n",
       "      <td>1</td>\n",
       "      <td>cash</td>\n",
       "      <td>2017-03-14 4:23:56</td>\n",
       "      <td>144.0</td>\n",
       "    </tr>\n",
       "    <tr>\n",
       "      <th>3</th>\n",
       "      <td>4</td>\n",
       "      <td>18</td>\n",
       "      <td>935</td>\n",
       "      <td>156</td>\n",
       "      <td>1</td>\n",
       "      <td>credit_card</td>\n",
       "      <td>2017-03-26 12:43:37</td>\n",
       "      <td>156.0</td>\n",
       "    </tr>\n",
       "    <tr>\n",
       "      <th>4</th>\n",
       "      <td>5</td>\n",
       "      <td>18</td>\n",
       "      <td>883</td>\n",
       "      <td>156</td>\n",
       "      <td>1</td>\n",
       "      <td>credit_card</td>\n",
       "      <td>2017-03-01 4:35:11</td>\n",
       "      <td>156.0</td>\n",
       "    </tr>\n",
       "  </tbody>\n",
       "</table>\n",
       "</div>"
      ],
      "text/plain": [
       "   order_id  shop_id  user_id  order_amount  total_items payment_method  \\\n",
       "0         1       53      746           224            2           cash   \n",
       "1         2       92      925            90            1           cash   \n",
       "2         3       44      861           144            1           cash   \n",
       "3         4       18      935           156            1    credit_card   \n",
       "4         5       18      883           156            1    credit_card   \n",
       "\n",
       "            created_at  aov_per_transaction  \n",
       "0  2017-03-13 12:36:56                112.0  \n",
       "1  2017-03-03 17:38:52                 90.0  \n",
       "2   2017-03-14 4:23:56                144.0  \n",
       "3  2017-03-26 12:43:37                156.0  \n",
       "4   2017-03-01 4:35:11                156.0  "
      ]
     },
     "execution_count": 10,
     "metadata": {},
     "output_type": "execute_result"
    }
   ],
   "source": [
    "data['aov_per_transaction'] = data['order_amount'] / data['total_items']\n",
    "data.head()"
   ]
  },
  {
   "cell_type": "code",
   "execution_count": 11,
   "id": "3e423d1f",
   "metadata": {},
   "outputs": [
    {
     "data": {
      "text/plain": [
       "count     5000.000000\n",
       "mean       387.742800\n",
       "std       2441.963725\n",
       "min         90.000000\n",
       "25%        133.000000\n",
       "50%        153.000000\n",
       "75%        169.000000\n",
       "max      25725.000000\n",
       "Name: aov_per_transaction, dtype: float64"
      ]
     },
     "execution_count": 11,
     "metadata": {},
     "output_type": "execute_result"
    }
   ],
   "source": [
    "data['aov_per_transaction'].describe()"
   ]
  },
  {
   "cell_type": "markdown",
   "id": "4ca87cdc",
   "metadata": {},
   "source": [
    "However, the very high standard deviation compared to the mean does not make sense. So, we can say that our data may have outliers. I also visualize the histogram for this column."
   ]
  },
  {
   "cell_type": "code",
   "execution_count": 12,
   "id": "042d84e2",
   "metadata": {},
   "outputs": [
    {
     "data": {
      "text/plain": [
       "<AxesSubplot:>"
      ]
     },
     "execution_count": 12,
     "metadata": {},
     "output_type": "execute_result"
    },
    {
     "data": {
      "image/png": "[encoded data removed]",
      "text/plain": [
       "<Figure size 432x288 with 1 Axes>"
      ]
     },
     "metadata": {
      "needs_background": "light"
     },
     "output_type": "display_data"
    }
   ],
   "source": [
    "data['aov_per_transaction'].hist()"
   ]
  },
  {
   "cell_type": "markdown",
   "id": "ae4da0c4",
   "metadata": {},
   "source": [
    "As we can see in the diagram there are some transactions with AOV around 25000$ which doesn't make sense. Let's remove them:"
   ]
  },
  {
   "cell_type": "code",
   "execution_count": 13,
   "id": "fe1c2950",
   "metadata": {},
   "outputs": [],
   "source": [
    "data_no_outlier = data[data['aov_per_transaction']<5000]"
   ]
  },
  {
   "cell_type": "markdown",
   "id": "7f5d8f5e",
   "metadata": {},
   "source": [
    "Let's find out which stores have these abnormal AOV values:"
   ]
  },
  {
   "cell_type": "code",
   "execution_count": 14,
   "id": "f924718e",
   "metadata": {},
   "outputs": [
    {
     "name": "stdout",
     "output_type": "stream",
     "text": [
      "store 78 has outliers.\n"
     ]
    }
   ],
   "source": [
    "# find stores that have outlier:\n",
    "index = data.index[data['aov_per_transaction']>5000].tolist()\n",
    "print(\"store {} has outliers.\".format(data['shop_id'][index].unique()[0]))"
   ]
  },
  {
   "cell_type": "markdown",
   "id": "7362b4ed",
   "metadata": {},
   "source": [
    "Let's check the new data:"
   ]
  },
  {
   "cell_type": "code",
   "execution_count": 15,
   "id": "aa4c0f8b",
   "metadata": {},
   "outputs": [
    {
     "data": {
      "text/plain": [
       "count    4954.000000\n",
       "mean      152.475575\n",
       "std        31.260218\n",
       "min        90.000000\n",
       "25%       132.000000\n",
       "50%       153.000000\n",
       "75%       168.000000\n",
       "max       352.000000\n",
       "Name: aov_per_transaction, dtype: float64"
      ]
     },
     "execution_count": 15,
     "metadata": {},
     "output_type": "execute_result"
    }
   ],
   "source": [
    "data_no_outlier['aov_per_transaction'].describe()"
   ]
  },
  {
   "cell_type": "code",
   "execution_count": 16,
   "id": "c087537a",
   "metadata": {},
   "outputs": [
    {
     "data": {
      "text/plain": [
       "<AxesSubplot:>"
      ]
     },
     "execution_count": 16,
     "metadata": {},
     "output_type": "execute_result"
    },
    {
     "data": {
      "image/png": "[encoded data removed]",
      "text/plain": [
       "<Figure size 432x288 with 1 Axes>"
      ]
     },
     "metadata": {
      "needs_background": "light"
     },
     "output_type": "display_data"
    }
   ],
   "source": [
    "data_no_outlier['aov_per_transaction'].hist()"
   ]
  },
  {
   "cell_type": "markdown",
   "id": "54c0f5e1",
   "metadata": {},
   "source": [
    "As you can see in the diagram, there are some transactions around 350$. We may consider them as outliers or we may keep them since this amount for sneakers may not consider too high. For example, some stores may have limited higher quality sneakers at this price. Let's see which stores are selling these sneakers:"
   ]
  },
  {
   "cell_type": "code",
   "execution_count": 17,
   "id": "8c79186c",
   "metadata": {},
   "outputs": [
    {
     "name": "stdout",
     "output_type": "stream",
     "text": [
      "store [42 78] has outliers.\n"
     ]
    }
   ],
   "source": [
    "# find stores that have outlier:\n",
    "index = data.index[data['aov_per_transaction']>300].tolist()\n",
    "print(\"store {} has outliers.\".format(data['shop_id'][index].unique()))"
   ]
  },
  {
   "cell_type": "markdown",
   "id": "c0e7cf2d",
   "metadata": {},
   "source": [
    "So, we may remove these transactions from store 32 as outliers as well."
   ]
  },
  {
   "cell_type": "code",
   "execution_count": 18,
   "id": "11392ea2",
   "metadata": {},
   "outputs": [
    {
     "data": {
      "text/plain": [
       "count    4903.000000\n",
       "mean      150.400163\n",
       "std        23.851202\n",
       "min        90.000000\n",
       "25%       132.000000\n",
       "50%       153.000000\n",
       "75%       166.000000\n",
       "max       201.000000\n",
       "Name: aov_per_transaction, dtype: float64"
      ]
     },
     "execution_count": 18,
     "metadata": {},
     "output_type": "execute_result"
    }
   ],
   "source": [
    "data_no_outlier2 = data[data['aov_per_transaction']<300]\n",
    "data_no_outlier2['aov_per_transaction'].describe()"
   ]
  },
  {
   "cell_type": "code",
   "execution_count": 19,
   "id": "fdd7053e",
   "metadata": {},
   "outputs": [
    {
     "data": {
      "text/plain": [
       "<AxesSubplot:>"
      ]
     },
     "execution_count": 19,
     "metadata": {},
     "output_type": "execute_result"
    },
    {
     "data": {
      "image/png": "[encoded data removed]",
      "text/plain": [
       "<Figure size 432x288 with 1 Axes>"
      ]
     },
     "metadata": {
      "needs_background": "light"
     },
     "output_type": "display_data"
    }
   ],
   "source": [
    "data_no_outlier2['aov_per_transaction'].hist()"
   ]
  },
  {
   "cell_type": "markdown",
   "id": "272f1c80",
   "metadata": {},
   "source": [
    "### b. What metric would I report for this dataset?"
   ]
  },
  {
   "cell_type": "markdown",
   "id": "6fedb33f",
   "metadata": {},
   "source": [
    "AOV, median, and mode are common metrics. Note that the median is a great choice for a dataset with outliers since it is a good indicator of the center of the ordered dataset and it can reduce the effect of outliers."
   ]
  },
  {
   "cell_type": "markdown",
   "id": "62b82906",
   "metadata": {},
   "source": [
    "### c. What is its value?"
   ]
  },
  {
   "cell_type": "markdown",
   "id": "e63277f2",
   "metadata": {},
   "source": [
    "Median is 153$."
   ]
  },
  {
   "cell_type": "code",
   "execution_count": 20,
   "id": "f0bc4c17",
   "metadata": {},
   "outputs": [
    {
     "name": "stdout",
     "output_type": "stream",
     "text": [
      "Mean AOV: 152.47557529269278\n",
      "Median AOV: 153.0\n",
      "Mode AOV: 153.0\n"
     ]
    }
   ],
   "source": [
    "print(\"Mean AOV:\",data_no_outlier['aov_per_transaction'].mean())\n",
    "print(\"Median AOV:\",data_no_outlier['aov_per_transaction'].median())\n",
    "print(\"Mode AOV:\",data_no_outlier['aov_per_transaction'].mode()[0])"
   ]
  },
  {
   "cell_type": "markdown",
   "id": "614597be",
   "metadata": {},
   "source": [
    "## Question 2"
   ]
  },
  {
   "cell_type": "markdown",
   "id": "b007b63a",
   "metadata": {},
   "source": [
    "For this question you’ll need to use SQL. [Follow this link](https://www.w3schools.com/SQL/TRYSQL.ASP?FILENAME=TRYSQL_SELECT_ALL) to access the data set required for the challenge. Please use queries to answer the following questions. Paste your queries along with your final numerical answers below."
   ]
  },
  {
   "cell_type": "markdown",
   "id": "702b50ca",
   "metadata": {},
   "source": [
    "### a. How many orders were shipped by Speedy Express in total?"
   ]
  },
  {
   "cell_type": "markdown",
   "id": "9bfff312",
   "metadata": {},
   "source": [
    "**Answer:** 54"
   ]
  },
  {
   "cell_type": "markdown",
   "id": "9fd26033",
   "metadata": {},
   "source": [
    "**Queries:**"
   ]
  },
  {
   "cell_type": "markdown",
   "id": "47d37352",
   "metadata": {},
   "source": [
    "``` mysql\n",
    "SELECT COUNT(*) \n",
    "FROM Orders\n",
    "INNER JOIN Shippers ON Orders.ShipperID = Shippers.ShipperID\n",
    "Where Shippers.ShipperName = 'Speedy Express'\n",
    "```"
   ]
  },
  {
   "cell_type": "markdown",
   "id": "faf9cffc",
   "metadata": {},
   "source": [
    "**Thought Process:** we need to join table “Orders” and table “Shippers” based on ShipperID and then use WHERE to filter orders shipped by Speedy Express and return the total number of rows using COUNT."
   ]
  },
  {
   "cell_type": "markdown",
   "id": "600cf960",
   "metadata": {},
   "source": [
    "### b. What is the last name of the employee with the most orders?"
   ]
  },
  {
   "cell_type": "markdown",
   "id": "264eca7e",
   "metadata": {},
   "source": [
    "**Answer:** Peacock with 40 orders"
   ]
  },
  {
   "cell_type": "markdown",
   "id": "629cd791",
   "metadata": {},
   "source": [
    "**Queries:**"
   ]
  },
  {
   "cell_type": "markdown",
   "id": "47fa86cc",
   "metadata": {},
   "source": [
    "``` mysql\n",
    "SELECT Employees.LastName, COUNT(Orders.OrderID) as NumOrder\n",
    "FROM Employees INNER JOIN Orders ON Employees.EmployeeID = Orders.EmployeeID\n",
    "GROUP BY Employees.LastName\n",
    "ORDER BY NumOrder DESC\n",
    "LIMIT 1;\n",
    "```"
   ]
  },
  {
   "cell_type": "markdown",
   "id": "a78d40b5",
   "metadata": {},
   "source": [
    "**Thought Process:** Table “Employees” has LastName but it doesn't have order information. So, we need to JOIN table “Orders” and “Employees” to have access to both LastName and order information. Then we can use GROUP BY to get the number of orders for each employee. We want the highest number of orders. So, we can use ORDER BY and DESC to sort them in descending order and find the employee with the most orders using LIMIT 1 which is the first row."
   ]
  },
  {
   "cell_type": "markdown",
   "id": "9af59390",
   "metadata": {},
   "source": [
    "### c. What product was ordered the most by customers in Germany?"
   ]
  },
  {
   "cell_type": "markdown",
   "id": "596b0c18",
   "metadata": {},
   "source": [
    "**Answer:** Boston Crab Meat with 160 orders"
   ]
  },
  {
   "cell_type": "markdown",
   "id": "13924ee6",
   "metadata": {},
   "source": [
    "**Queries:**"
   ]
  },
  {
   "cell_type": "markdown",
   "id": "89da71e9",
   "metadata": {},
   "source": [
    "``` mysql\n",
    "SELECT Products.ProductName, SUM(OrderDetails.Quantity) as TotalOrder \n",
    "FROM Orders\n",
    "INNER JOIN Customers ON Customers.CustomerID = Orders.CustomerID\n",
    "INNER JOIN Products ON OrderDetails.ProductID = Products.ProductID\n",
    "INNER JOIN OrderDetails ON Orders.OrderID = OrderDetails.OrderID\n",
    "WHERE Customers.Country = 'Germany'\n",
    "GROUP BY ProductName\n",
    "ORDER BY TotalOrder DESC\n",
    "LIMIT 1;\n",
    "```"
   ]
  },
  {
   "cell_type": "markdown",
   "id": "ed59a111",
   "metadata": {},
   "source": [
    "**Though Process:**\n",
    "Table “Orders” contains OrderID and CustomerID. Table “Customers” contains CustomerID and Country. Table “OrderDetails” contains ProductID, Quantity, and OrderID. Table “Products” contains ProductID and ProductName.\n",
    "So, we need to use JOIN to join these four tables. Then we can use WHERE to filter Germany as a country. Finally, finding the product with most orders in last 3 lines which is similar to the part b."
   ]
  }
 ],
 "metadata": {
  "kernelspec": {
   "display_name": "Python 3 (ipykernel)",
   "language": "python",
   "name": "python3"
  },
  "language_info": {
   "codemirror_mode": {
    "name": "ipython",
    "version": 3
   },
   "file_extension": ".py",
   "mimetype": "text/x-python",
   "name": "python",
   "nbconvert_exporter": "python",
   "pygments_lexer": "ipython3",
   "version": "3.9.9"
  }
 },
 "nbformat": 4,
 "nbformat_minor": 5
}
